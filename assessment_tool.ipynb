
!pip install transformers torch accelerate
import torch
from transformers import AutoModelForCausalLM, AutoTokenizer, pipeline
import pandas as pd
model_id = "ibm-granite/granite-3.0-3b-a800m-instruct"

tokenizer = AutoTokenizer.from_pretrained(model_id)
model = AutoModelForCausalLM.from_pretrained(
    model_id,
    device_map='auto',
    torch_dtype=torch.bfloat16,
    trust_remote_code=True
)

generator = pipeline("text-generation", model=model, tokenizer=tokenizer)

#Questions + Answers + Mappings

questions = [
    "When working in a team, what describes you best?",
    "How do you respond to sudden changes in work plans?",
    "When you receive critical feedback from your manager, you usually:",
    "What’s your approach when you're unfamiliar with a task?",
    "How do you feel about taking ownership of a group project?",
    "What motivates you most at work?",
    "How do you typically manage your daily tasks?",
    "A customer is unhappy. What’s your first instinct?",
    "You notice a recurring problem that slows down the team. What do you do?",
    "How do you approach learning something new on the job?"
]

answers = [
    (
        "I take initiative even without being asked",  # Ownership
        "I make sure everyone feels included",          # Earn Trust
        "I prefer to follow instructions to get things done",  # Deliver Results
        "I wait until others take the lead"             # Frugality (negative)
    ),
    (
        "I adapt quickly and help others adjust",       # Bias for Action
        "I ask questions to fully understand the changes", # Learn and Be Curious
        "I prefer to stick with the original plan",     # Insist on the Highest Standards
        "I feel stressed and need time to process"      # Disagree and Commit (indirect)
    ),
    (
        "Reflect on it and improve immediately",        # Dive Deep
        "Ask for clarification to understand better",   # Learn and Be Curious
        "Feel demotivated for a while",                 # N/A
        "Disagree if I think it's unfair"               # Have Backbone
    ),
    (
        "I dive in and figure it out as I go",          # Bias for Action
        "I research first before trying",               # Learn and Be Curious
        "I wait for someone to explain it to me",       # Hire and Develop the Best (passive)
        "I avoid it until I feel more confident"        # N/A
    ),
    (
        "I enjoy being responsible and accountable",    # Ownership
        "I prefer to contribute equally with others",   # Earn Trust
        "I support the leader but avoid leading",       # Deliver Results
        "I feel uncomfortable being the point of contact"  # N/A
    ),
    (
        "Seeing the results of my hard work",           # Deliver Results
        "Being recognized by my team or manager",       # Earn Trust
        "Learning new things every day",                # Learn and Be Curious
        "Knowing I completed all my assigned tasks"     # Insist on the Highest Standards
    ),
    (
        "I prioritize based on deadlines and importance",   # Deliver Results
        "I tackle easier tasks first to warm up",       # Frugality
        "I go with the flow and handle things as they come", # Bias for Action (weak)
        "I often feel overwhelmed and don’t know where to start"  # N/A
    ),
    (
        "Understand their concern and find a solution", # Customer Obsession
        "Apologize and ask a manager for help",         # Earn Trust
        "Explain company policy clearly",               # Insist on the Highest Standards
        "Let them vent before responding"               # Earn Trust
    ),
    (
        "Propose a new solution or workflow",           # Invent and Simplify
        "Raise the issue with a manager",               # Dive Deep
        "Try to work around it quietly",                # Frugality
        "Accept it as something out of your control"    # N/A
    ),
    (
        "I take the initiative to teach myself",        # Learn and Be Curious
        "I ask a coworker to walk me through it",       # Hire and Develop the Best
        "I wait for official training",                 # Deliver Results (neutral)
        "I put it off if it’s not urgent"               # N/A
    )
]

# Leadership principle mapping
answer_to_principle = {
    "I take initiative even without being asked": "Ownership",
    "I make sure everyone feels included": "Earn Trust",
    "I prefer to follow instructions to get things done": "Deliver Results",
    "I wait until others take the lead": "Frugality",

    "I adapt quickly and help others adjust": "Bias for Action",
    "I ask questions to fully understand the changes": "Learn and Be Curious",
    "I prefer to stick with the original plan": "Insist on the Highest Standards",
    "I feel stressed and need time to process": "Disagree and Commit",

    "Reflect on it and improve immediately": "Dive Deep",
    "Ask for clarification to understand better": "Learn and Be Curious",
    "Feel demotivated for a while": "N/A",
    "Disagree if I think it's unfair": "Have Backbone",

    "I dive in and figure it out as I go": "Bias for Action",
    "I research first before trying": "Learn and Be Curious",
    "I wait for someone to explain it to me": "Hire and Develop the Best",
    "I avoid it until I feel more confident": "N/A",

    "I enjoy being responsible and accountable": "Ownership",
    "I prefer to contribute equally with others": "Earn Trust",
    "I support the leader but avoid leading myself": "Deliver Results",
    "I feel uncomfortable being the point of contact": "N/A",

    "Seeing the results of my hard work": "Deliver Results",
    "Being recognized by my team or manager": "Earn Trust",
    "Learning new things every day": "Learn and Be Curious",
    "Knowing I completed all my assigned tasks": "Insist on the Highest Standards",

    "I prioritize based on deadlines and importance": "Deliver Results",
    "I tackle easier tasks first to warm up": "Frugality",
    "I go with the flow and handle things as they come": "Bias for Action",
    "I often feel overwhelmed and don’t know where to start": "N/A",

    "Understand their concern and find a solution": "Customer Obsession",
    "Apologize and ask a manager for help": "Earn Trust",
    "Explain company policy clearly": "Insist on the Highest Standards",
    "Let them vent before responding": "Earn Trust",

    "Propose a new solution or workflow": "Invent and Simplify",
    "Raise the issue with a manager": "Dive Deep",
    "Try to work around it quietly": "Frugality",
    "Accept it as something out of your control": "N/A",

    "I take the initiative to teach myself": "Learn and Be Curious",
    "I ask a coworker to walk me through it": "Hire and Develop the Best",
    "I wait for official training": "Deliver Results",
    "I put it off if it’s not urgent": "N/A"
}

import ipywidgets as widgets
from IPython.display import display
#store response
responses = []

def ask_question(question_idx=0):
    if question_idx < len(questions):
        question_text = questions[question_idx]
        dropdown = widgets.Dropdown(
            options=answers[question_idx],
            description='Select:',
            value=None,
            style={'description_width': 'initial'}
        )
        button = widgets.Button(description="Submit", button_style='primary')

        def on_submit(b):
            if dropdown.value is not None:
                responses.append(dropdown.value)
                dropdown.close()
                button.close()
                ask_question(question_idx + 1)
            else:
                print("⚠️ Please select an option before submitting.")

        button.on_click(on_submit)

        print(f"\n{question_text}")
        display(dropdown, button)
    else:
        print("\n✅ All questions answered.")
        print("Your responses:")
        for q, a in zip(questions, responses):
            print(f"Q: {q}\nA: {a}\n")
        summarize_principles()

def summarize_principles():
    principle_counts = {}
    for response in responses:
        principle = answer_to_principle.get(response, "N/A")
        if principle != "N/A":
            principle_counts[principle] = principle_counts.get(principle, 0) + 1

    if not principle_counts:
        print("No leadership principles were identified from your responses.")
        return

    sorted_principles = sorted(principle_counts.items(), key=lambda x: x[1], reverse=True)

    print("\n🧾 Summary of Leadership Principles:")
    for principle, count in sorted_principles:
        print(f"- {principle}: selected {count} time(s)")

    formatted_summary = "\n".join([f"{i+1}. {p} ({c}x)" for i, (p, c) in enumerate(sorted_principles)])

    prompt = (
        "The following is a list of leadership principles identified from a candidate's work style assessment:\n"
        f"{formatted_summary}\n\n"
        "Based on this, write a short paragraph summarizing their likely work style and strengths."
    )

    print("\n⏳ Generating AI insight using Granite...\n")
    output = generator(prompt, max_new_tokens=200, truncation=True)[0]["generated_text"]

    if "Based on this" in output:
        result = output.split("Based on this")[-1].strip()
        print("🧠 AI Personality Insight:\n")
        print("Based on this " + result)
    else:
        print(output.strip())

ask_question()
